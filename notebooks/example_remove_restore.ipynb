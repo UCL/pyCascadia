{
 "cells": [
  {
   "cell_type": "code",
   "execution_count": null,
   "id": "particular-monitor",
   "metadata": {},
   "outputs": [],
   "source": [
    "import matplotlib.pyplot as plt\n",
    "from pycascadia.grid import Grid\n",
    "from pycascadia.utility import region_to_str, min_regions\n",
    "from pycascadia.remove_restore import calc_diff_grid, load_base_grid"
   ]
  },
  {
   "cell_type": "code",
   "execution_count": null,
   "id": "synthetic-reaction",
   "metadata": {},
   "outputs": [],
   "source": [
    "UPDATE_FILENAMES = [\"../../bath_data/NOAA_South_VancouverIsland_30m.tif\", \"../../bath_data/sample_data.tif\"]\n",
    "OUTPUT = \"test_out.nc\"\n",
    "BASE_GRID_FNAME = \"../../bath_data/GEBCO_2019_-157.0_62.0_-121.0_35.0.nc\"\n",
    "SPACING = 1e-3\n",
    "REGION_OF_INTEREST = [-123.3, -122.8, 48.400, 48.900]"
   ]
  },
  {
   "cell_type": "code",
   "execution_count": null,
   "id": "c38ad379",
   "metadata": {},
   "outputs": [],
   "source": [
    "base_grid = load_base_grid(BASE_GRID_FNAME, region=REGION_OF_INTEREST, spacing=SPACING)\n",
    "\n",
    "plt.axes().set_aspect('equal')\n",
    "base_grid.plot()\n",
    "plt.show()"
   ]
  },
  {
   "cell_type": "code",
   "execution_count": null,
   "id": "f03ddf35",
   "metadata": {},
   "outputs": [],
   "source": [
    "for fname in UPDATE_FILENAMES:\n",
    "    update_grid = Grid(fname, convert_to_xyz=True)\n",
    "\n",
    "    diff_grid_xr = calc_diff_grid(base_grid, update_grid)\n",
    "    \n",
    "    plt.axes().set_aspect('equal')\n",
    "    diff_grid_xr.plot()\n",
    "    plt.show()\n",
    "\n",
    "    base_grid.grid.values += diff_grid_xr.values"
   ]
  },
  {
   "cell_type": "code",
   "execution_count": null,
   "id": "4f78e466",
   "metadata": {},
   "outputs": [],
   "source": [
    "plt.axes().set_aspect('equal')\n",
    "base_grid.plot()\n",
    "plt.show()"
   ]
  },
  {
   "cell_type": "code",
   "execution_count": null,
   "id": "fb079eba",
   "metadata": {},
   "outputs": [],
   "source": [
    "fig, axes = plt.subplots(1, 2, figsize=(13, 5))\n",
    "for ax in axes:\n",
    "    ax.axis('equal')\n",
    "base_grid.grid.differentiate('x').plot(ax=axes[0])\n",
    "base_grid.grid.differentiate('y').plot(ax=axes[1])\n",
    "plt.show()"
   ]
  },
  {
   "cell_type": "code",
   "execution_count": null,
   "id": "ed878e38",
   "metadata": {},
   "outputs": [],
   "source": [
    "base_grid.save_grid(OUTPUT)"
   ]
  }
 ],
 "metadata": {
  "kernelspec": {
   "display_name": "Python 3",
   "language": "python",
   "name": "python3"
  },
  "language_info": {
   "codemirror_mode": {
    "name": "ipython",
    "version": 3
   },
   "file_extension": ".py",
   "mimetype": "text/x-python",
   "name": "python",
   "nbconvert_exporter": "python",
   "pygments_lexer": "ipython3",
   "version": "3.9.4"
  }
 },
 "nbformat": 4,
 "nbformat_minor": 5
}
